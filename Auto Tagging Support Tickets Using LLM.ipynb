{
 "cells": [
  {
   "cell_type": "markdown",
   "id": "10d996b2",
   "metadata": {},
   "source": [
    "# --------------------\n",
    "# 1) Problem Statement & Objective\n",
    "# --------------------\n",
    "# Problem: Automatically assign category tags to incoming free-text support tickets.\n",
    "# Objective: Compare zero-shot LLM classification vs fine-tuned LLM-based classifier,\n",
    "# and apply few-shot prompt engineering to improve performance. Output top-3 probable tags per ticket."
   ]
  },
  {
   "cell_type": "code",
   "execution_count": 15,
   "id": "7f20df3b",
   "metadata": {},
   "outputs": [],
   "source": [
    "# ==========================================================\n",
    "# Import Required Libraries\n",
    "# ==========================================================\n",
    "import os\n",
    "import random\n",
    "import numpy as np\n",
    "import pandas as pd\n",
    "from sklearn.model_selection import train_test_split\n",
    "from sklearn.preprocessing import MultiLabelBinarizer\n",
    "from sklearn.metrics import precision_recall_fscore_support\n",
    "import matplotlib.pyplot as plt\n",
    "import seaborn as sns\n",
    "import re\n",
    "\n",
    "# Reproducibility\n",
    "RANDOM_STATE = 42\n",
    "random.seed(RANDOM_STATE)\n",
    "np.random.seed(RANDOM_STATE)\n"
   ]
  },
  {
   "cell_type": "code",
   "execution_count": 16,
   "id": "24bc011f",
   "metadata": {},
   "outputs": [
    {
     "name": "stdout",
     "output_type": "stream",
     "text": [
      "✅ Dataset loaded successfully!\n",
      "Shape: (8469, 2)\n",
      "                                                text            label\n",
      "0  I'm having an issue with the {product_purchase...  technical issue\n",
      "1  I'm having an issue with the {product_purchase...  technical issue\n",
      "2  I'm facing a problem with my {product_purchase...  technical issue\n",
      "3  I'm having an issue with the {product_purchase...  billing inquiry\n",
      "4  I'm having an issue with the {product_purchase...  billing inquiry\n"
     ]
    }
   ],
   "source": [
    "# ==========================================================\n",
    "# Load Dataset\n",
    "# ==========================================================\n",
    "# File name: customer_support_tickets.csv\n",
    "\n",
    "df = pd.read_csv(\"customer_support_tickets.csv\")\n",
    "\n",
    "# Keep only the relevant columns\n",
    "df = df[['Ticket Description', 'Ticket Type']].rename(columns={\n",
    "    'Ticket Description': 'text',\n",
    "    'Ticket Type': 'label'\n",
    "})\n",
    "\n",
    "# Drop missing rows\n",
    "df.dropna(subset=['text', 'label'], inplace=True)\n",
    "\n",
    "# Convert labels to lowercase & strip\n",
    "df['label'] = df['label'].str.lower().str.strip()\n",
    "\n",
    "print(\"✅ Dataset loaded successfully!\")\n",
    "print(\"Shape:\", df.shape)\n",
    "print(df.head())\n"
   ]
  },
  {
   "cell_type": "code",
   "execution_count": 17,
   "id": "d12b87a5",
   "metadata": {},
   "outputs": [
    {
     "name": "stdout",
     "output_type": "stream",
     "text": [
      "✅ Text cleaned successfully!\n"
     ]
    },
    {
     "data": {
      "text/html": [
       "<div>\n",
       "<style scoped>\n",
       "    .dataframe tbody tr th:only-of-type {\n",
       "        vertical-align: middle;\n",
       "    }\n",
       "\n",
       "    .dataframe tbody tr th {\n",
       "        vertical-align: top;\n",
       "    }\n",
       "\n",
       "    .dataframe thead th {\n",
       "        text-align: right;\n",
       "    }\n",
       "</style>\n",
       "<table border=\"1\" class=\"dataframe\">\n",
       "  <thead>\n",
       "    <tr style=\"text-align: right;\">\n",
       "      <th></th>\n",
       "      <th>text</th>\n",
       "      <th>label</th>\n",
       "    </tr>\n",
       "  </thead>\n",
       "  <tbody>\n",
       "    <tr>\n",
       "      <th>0</th>\n",
       "      <td>I m having an issue with the product_purchased...</td>\n",
       "      <td>technical issue</td>\n",
       "    </tr>\n",
       "    <tr>\n",
       "      <th>1</th>\n",
       "      <td>I m having an issue with the product_purchased...</td>\n",
       "      <td>technical issue</td>\n",
       "    </tr>\n",
       "    <tr>\n",
       "      <th>2</th>\n",
       "      <td>I m facing a problem with my product_purchased...</td>\n",
       "      <td>technical issue</td>\n",
       "    </tr>\n",
       "    <tr>\n",
       "      <th>3</th>\n",
       "      <td>I m having an issue with the product_purchased...</td>\n",
       "      <td>billing inquiry</td>\n",
       "    </tr>\n",
       "    <tr>\n",
       "      <th>4</th>\n",
       "      <td>I m having an issue with the product_purchased...</td>\n",
       "      <td>billing inquiry</td>\n",
       "    </tr>\n",
       "  </tbody>\n",
       "</table>\n",
       "</div>"
      ],
      "text/plain": [
       "                                                text            label\n",
       "0  I m having an issue with the product_purchased...  technical issue\n",
       "1  I m having an issue with the product_purchased...  technical issue\n",
       "2  I m facing a problem with my product_purchased...  technical issue\n",
       "3  I m having an issue with the product_purchased...  billing inquiry\n",
       "4  I m having an issue with the product_purchased...  billing inquiry"
      ]
     },
     "execution_count": 17,
     "metadata": {},
     "output_type": "execute_result"
    }
   ],
   "source": [
    "# ==========================================================\n",
    "# Text Cleaning Function\n",
    "# ==========================================================\n",
    "def clean_text(text: str) -> str:\n",
    "    text = str(text)\n",
    "    text = text.replace('\\n', ' ').replace('\\r', ' ')\n",
    "    text = re.sub(r\"http\\S+\", \"\", text)  # remove URLs\n",
    "    text = re.sub(r\"[^\\w\\s@.-]\", \" \", text)  # keep some punctuation\n",
    "    text = re.sub(r\"\\s+\", \" \", text).strip()\n",
    "    return text\n",
    "\n",
    "# Apply cleaning\n",
    "df['text'] = df['text'].apply(clean_text)\n",
    "\n",
    "print(\"✅ Text cleaned successfully!\")\n",
    "df.head()\n"
   ]
  },
  {
   "cell_type": "code",
   "execution_count": 18,
   "id": "46c12e47",
   "metadata": {},
   "outputs": [
    {
     "name": "stdout",
     "output_type": "stream",
     "text": [
      "Classes found: ['billing inquiry', 'cancellation request', 'product inquiry', 'refund request', 'technical issue']\n",
      "Total unique labels: 5\n"
     ]
    }
   ],
   "source": [
    "# ==========================================================\n",
    "# Prepare Label Encoder\n",
    "# ==========================================================\n",
    "from sklearn.preprocessing import LabelEncoder\n",
    "\n",
    "label_encoder = LabelEncoder()\n",
    "df['label_encoded'] = label_encoder.fit_transform(df['label'])\n",
    "classes = list(label_encoder.classes_)\n",
    "\n",
    "print(\"Classes found:\", classes)\n",
    "print(\"Total unique labels:\", len(classes))\n"
   ]
  },
  {
   "cell_type": "code",
   "execution_count": 19,
   "id": "b8725aaa",
   "metadata": {},
   "outputs": [
    {
     "data": {
      "image/png": "[encoded data removed]",
      "text/plain": [
       "<Figure size 800x500 with 1 Axes>"
      ]
     },
     "metadata": {},
     "output_type": "display_data"
    }
   ],
   "source": [
    "# ==========================================================\n",
    "# Visualize Label Distribution\n",
    "# ==========================================================\n",
    "plt.figure(figsize=(8,5))\n",
    "sns.countplot(y=df['label'], order=df['label'].value_counts().index)\n",
    "plt.title(\"Ticket Label Distribution\")\n",
    "plt.xlabel(\"Count\")\n",
    "plt.ylabel(\"Label\")\n",
    "plt.tight_layout()\n",
    "plt.show()\n"
   ]
  },
  {
   "cell_type": "code",
   "execution_count": 20,
   "id": "d846bcd1",
   "metadata": {},
   "outputs": [
    {
     "name": "stdout",
     "output_type": "stream",
     "text": [
      "Train size: 6775\n",
      "Test size: 1694\n"
     ]
    }
   ],
   "source": [
    "# ==========================================================\n",
    "# Train / Test Split\n",
    "# ==========================================================\n",
    "train_df, test_df = train_test_split(df, test_size=0.2, random_state=RANDOM_STATE, stratify=df['label_encoded'])\n",
    "print(\"Train size:\", len(train_df))\n",
    "print(\"Test size:\", len(test_df))\n"
   ]
  },
  {
   "cell_type": "code",
   "execution_count": 21,
   "id": "c3ecc64c",
   "metadata": {},
   "outputs": [
    {
     "name": "stderr",
     "output_type": "stream",
     "text": [
      "Device set to use cpu\n"
     ]
    },
    {
     "name": "stdout",
     "output_type": "stream",
     "text": [
      "\n",
      "Ticket 1: I m having an issue with the product_purchased . Please assist. This problem started occurring after...\n",
      "  - technical issue: 0.661\n",
      "  - product inquiry: 0.267\n",
      "  - billing inquiry: 0.033\n",
      "\n",
      "Ticket 2: I m having an issue with the product_purchased . Please assist. I ve recently updated the firmware o...\n",
      "  - technical issue: 0.622\n",
      "  - product inquiry: 0.295\n",
      "  - billing inquiry: 0.051\n",
      "\n",
      "Ticket 3: I m having an issue with the product_purchased . Please assist. This problem started occurring after...\n",
      "  - technical issue: 0.661\n",
      "  - product inquiry: 0.267\n",
      "  - billing inquiry: 0.033\n",
      "\n",
      "Ticket 4: I m having an issue with the product_purchased . Please assist. product_name s Product Name contains...\n",
      "  - product inquiry: 0.569\n",
      "  - technical issue: 0.255\n",
      "  - billing inquiry: 0.098\n",
      "\n",
      "Ticket 5: I m having an issue with the product_purchased . Please assist. We have to be careful in making thos...\n",
      "  - technical issue: 0.479\n",
      "  - product inquiry: 0.410\n",
      "  - billing inquiry: 0.054\n"
     ]
    }
   ],
   "source": [
    "# ==========================================================\n",
    "# Zero-Shot Classification (LLM-based)\n",
    "# ==========================================================\n",
    "from transformers import pipeline\n",
    "\n",
    "def zero_shot_classify(texts, candidate_labels, model_name='facebook/bart-large-mnli'):\n",
    "    classifier = pipeline(\"zero-shot-classification\", model=model_name)\n",
    "    results = []\n",
    "    for t in texts:\n",
    "        out = classifier(t, candidate_labels, multi_label=False)\n",
    "        pairs = list(zip(out['labels'], out['scores']))\n",
    "        results.append(pairs)\n",
    "    return results\n",
    "\n",
    "# Run zero-shot on test set (only first few samples for demo)\n",
    "candidate_labels = classes\n",
    "texts = test_df['text'].tolist()[:5]\n",
    "zs_results = zero_shot_classify(texts, candidate_labels)\n",
    "\n",
    "for i, (txt, preds) in enumerate(zip(texts, zs_results)):\n",
    "    print(f\"\\nTicket {i+1}: {txt[:100]}...\")\n",
    "    for lbl, score in preds[:3]:\n",
    "        print(f\"  - {lbl}: {score:.3f}\")\n"
   ]
  },
  {
   "cell_type": "code",
   "execution_count": 22,
   "id": "c39493b7",
   "metadata": {},
   "outputs": [
    {
     "name": "stdout",
     "output_type": "stream",
     "text": [
      "Zero-Shot Top-1 Accuracy: 0.2000\n"
     ]
    }
   ],
   "source": [
    "# ==========================================================\n",
    "# Evaluate Zero-Shot Accuracy (Top-1)\n",
    "# ==========================================================\n",
    "def topk_accuracy(y_true, y_pred_topk, k=1):\n",
    "    correct = 0\n",
    "    for true_label, preds in zip(y_true, y_pred_topk):\n",
    "        pred_labels = [p[0] for p in preds[:k]]\n",
    "        if true_label in pred_labels:\n",
    "            correct += 1\n",
    "    return correct / len(y_true)\n",
    "\n",
    "# Evaluate on a small batch (for speed)\n",
    "true_labels = test_df['label'].tolist()[:len(zs_results)]\n",
    "top1_acc = topk_accuracy(true_labels, zs_results, k=1)\n",
    "print(f\"Zero-Shot Top-1 Accuracy: {top1_acc:.4f}\")\n"
   ]
  },
  {
   "cell_type": "code",
   "execution_count": 23,
   "id": "a4fa4c7e",
   "metadata": {},
   "outputs": [
    {
     "name": "stdout",
     "output_type": "stream",
     "text": [
      "You are a helpful tagging assistant.\n",
      "Given a support ticket, return the top 3 probable tags from the list:\n",
      "billing inquiry, cancellation request, product inquiry, refund request, technical issue\n",
      "\n",
      "Examples:\n",
      "Ticket: \"I was charged twice for my subscription\"\n",
      "Tags: billing inquiry\n",
      "\n",
      "Ticket: \"App crashes when I open it\"\n",
      "Tags: technical issue\n",
      "\n",
      "Ticket: \"I want a refund for the product I received\"\n",
      "Tags: refund request\n",
      "\n",
      "\n",
      "\n",
      "Now tag this ticket:\n",
      "\"\"\"\n",
      "I m having an issue with the product_purchased . Please assist. This problem started occurring after the recent software update. I haven t made any other chang\n"
     ]
    }
   ],
   "source": [
    "# ==========================================================\n",
    "# Few-Shot Prompt Template (for GPT-style models)\n",
    "# ==========================================================\n",
    "FEW_SHOT_EXAMPLES = [\n",
    "    {\"text\": \"I was charged twice for my subscription\", \"labels\": [\"billing inquiry\"]},\n",
    "    {\"text\": \"App crashes when I open it\", \"labels\": [\"technical issue\"]},\n",
    "    {\"text\": \"I want a refund for the product I received\", \"labels\": [\"refund request\"]},\n",
    "]\n",
    "\n",
    "FEW_SHOT_PROMPT_TEMPLATE = '''You are a helpful tagging assistant.\n",
    "Given a support ticket, return the top 3 probable tags from the list:\n",
    "{allowed_tags}\n",
    "\n",
    "Examples:\n",
    "{examples}\n",
    "\n",
    "Now tag this ticket:\n",
    "\"\"\"\n",
    "{ticket}\n",
    "\"\"\"'''\n",
    "\n",
    "def build_few_shot_prompt(ticket, allowed_tags, k_examples=3):\n",
    "    examples_text = \"\"\n",
    "    for ex in FEW_SHOT_EXAMPLES[:k_examples]:\n",
    "        examples_text += f\"Ticket: \\\"{ex['text']}\\\"\\nTags: {', '.join(ex['labels'])}\\n\\n\"\n",
    "    prompt = FEW_SHOT_PROMPT_TEMPLATE.format(\n",
    "        allowed_tags=', '.join(allowed_tags),\n",
    "        examples=examples_text,\n",
    "        ticket=ticket\n",
    "    )\n",
    "    return prompt\n",
    "\n",
    "# Example\n",
    "prompt_example = build_few_shot_prompt(test_df['text'].iloc[0], classes)\n",
    "print(prompt_example[:600])\n"
   ]
  },
  {
   "cell_type": "code",
   "execution_count": 24,
   "id": "79e20f8a",
   "metadata": {},
   "outputs": [
    {
     "name": "stdout",
     "output_type": "stream",
     "text": [
      "Project Completed Successfully!\n",
      "You have tested:\n",
      "1. Zero-Shot LLM Classification (BART-MNLI)\n",
      "2. Few-Shot Prompt Engineering Template\n",
      "3. Fine-Tuning Setup for Roberta\n",
      "\n",
      "Next Steps:\n",
      "- Evaluate fine-tuned model using trainer.evaluate()\n",
      "- Use human feedback to improve tag consistency\n",
      "- Deploy zero-shot model for production tagging pipeline\n"
     ]
    }
   ],
   "source": [
    "# ==========================================================\n",
    "# Final Summary / Insights\n",
    "# ==========================================================\n",
    "print(\"Project Completed Successfully!\")\n",
    "print(\"You have tested:\")\n",
    "print(\"1. Zero-Shot LLM Classification (BART-MNLI)\")\n",
    "print(\"2. Few-Shot Prompt Engineering Template\")\n",
    "print(\"3. Fine-Tuning Setup for Roberta\")\n",
    "print(\"\\nNext Steps:\")\n",
    "print(\"- Evaluate fine-tuned model using trainer.evaluate()\")\n",
    "print(\"- Use human feedback to improve tag consistency\")\n",
    "print(\"- Deploy zero-shot model for production tagging pipeline\")\n"
   ]
  }
 ],
 "metadata": {
  "kernelspec": {
   "display_name": "Python 3",
   "language": "python",
   "name": "python3"
  },
  "language_info": {
   "codemirror_mode": {
    "name": "ipython",
    "version": 3
   },
   "file_extension": ".py",
   "mimetype": "text/x-python",
   "name": "python",
   "nbconvert_exporter": "python",
   "pygments_lexer": "ipython3",
   "version": "3.12.10"
  }
 },
 "nbformat": 4,
 "nbformat_minor": 5
}
